{
 "cells": [
  {
   "cell_type": "code",
   "execution_count": 1,
   "id": "5f01aea4",
   "metadata": {},
   "outputs": [],
   "source": [
    "import numpy as np\n",
    "import random as rd\n",
    "import matplotlib.pyplot as plt"
   ]
  },
  {
   "cell_type": "markdown",
   "id": "69e1acf1",
   "metadata": {},
   "source": [
    "# Variables"
   ]
  },
  {
   "cell_type": "code",
   "execution_count": 2,
   "id": "c31f990e",
   "metadata": {},
   "outputs": [],
   "source": [
    "#maxVM\n",
    "K=5\n",
    "#CapaTot\n",
    "B=25\n",
    "b=10\n",
    "d=1\n",
    "#Coût\n",
    "Cf=1\n",
    "Ca=1\n",
    "Cd=1\n",
    "Ch=1"
   ]
  },
  {
   "cell_type": "markdown",
   "id": "1a23c836",
   "metadata": {},
   "source": [
    "# Transition et Reward"
   ]
  },
  {
   "cell_type": "markdown",
   "id": "d5c9999d",
   "metadata": {},
   "source": [
    "## Transition avec Proba PA(i)\n",
    "\n",
    "s=[min(B,max(0,m+i-j*d)),j]\n",
    "\n",
    "## Reward\n",
    "\n",
    "if j>n:\n",
    "\n",
    "    r=j*Cf+(j-n)*Ca+m*Ch\n",
    "\n",
    "else:\n",
    "\n",
    "    r=j*Cf(n-j)*Cd+m*Ch"
   ]
  },
  {
   "cell_type": "code",
   "execution_count": 3,
   "id": "38666adf-9c89-41ce-9dd5-0bb85f99c4d4",
   "metadata": {},
   "outputs": [],
   "source": [
    "def Reward(A,S,B=B,K=K,Ca=Ca,Cd=Cd,Ch=Ch):\n",
    "    R=np.zeros((len(S),len(A)))\n",
    "    for j in range(len(A)):\n",
    "        for s in range(len(S)):\n",
    "            m,n=s%(B+1),s//(B+1)\n",
    "            if j>n:\n",
    "                R[s,j]=j*Cf+(j-n)*Ca+m*Ch\n",
    "            else:\n",
    "                R[s,j]=j*Cf*(n-j)*Cd+m*Ch\n",
    "    return R\n",
    "\n",
    "def Transition(A,S,PA,B=B,K=K,d=d):\n",
    "    T=np.zeros((len(A),len(S),len(S)))\n",
    "    for j in range(len(A)):\n",
    "        for s in range(len(S)):\n",
    "            for i in range(len(PA)):\n",
    "                m=s%(B+1)\n",
    "                pos=min(B,max(0,m+i-j*d))\n",
    "                T[j][s][j*(K+1)+pos]+=PA[i]\n",
    "    return T"
   ]
  },
  {
   "cell_type": "code",
   "execution_count": 6,
   "id": "051771d8-bf43-4c36-8b9e-7d98cccc5e33",
   "metadata": {},
   "outputs": [],
   "source": [
    "S=np.array([m+n*(B+1) for n in range(K+1) for m in range(B+1)])\n",
    "A=np.array([k for k in range(K+1)])\n",
    "PA=np.ones(b+1)/(b+1)\n",
    "#PA=np.array([0.5,0.3,0.2])\n",
    "\n",
    "T=Transition(A,S,PA)\n",
    "R=Reward(A,S)\n",
    "epsilon=0.1\n",
    "gamma=0.9"
   ]
  },
  {
   "cell_type": "markdown",
   "id": "d945e371",
   "metadata": {},
   "source": [
    "# Q Value"
   ]
  },
  {
   "cell_type": "code",
   "execution_count": 7,
   "id": "05691a4b",
   "metadata": {},
   "outputs": [],
   "source": [
    "def Q_value(S,A,T=T,R=R,gamma=gamma,epsilon=epsilon):\n",
    "    \n",
    "    Q=np.zeros((len(S),len(A)))\n",
    "    k=0\n",
    "    \n",
    "    while True:\n",
    "        Q_n1=np.copy(Q)\n",
    "        k+=1\n",
    "        for s in S:\n",
    "            for j in A:\n",
    "                Somme=R[s,j]\n",
    "                for s2 in S:\n",
    "                   Somme+=gamma*T[j,s,s2]*np.min(Q_n1[s2,:])\n",
    "                Q[s,j]=Somme\n",
    "        if np.max(np.abs(Q-Q_n1))<epsilon:\n",
    "            break\n",
    "        else:\n",
    "            print(k)\n",
    "    politique_optimale = {s: np.argmin(Q[s, :]) for s in S}\n",
    "    \n",
    "    return Q,politique_optimale"
   ]
  },
  {
   "cell_type": "code",
   "execution_count": 8,
   "id": "1fe37a3f-56a1-4aea-bef3-b193e16e2ffa",
   "metadata": {},
   "outputs": [
    {
     "name": "stdout",
     "output_type": "stream",
     "text": [
      "1\n"
     ]
    },
    {
     "ename": "KeyboardInterrupt",
     "evalue": "",
     "output_type": "error",
     "traceback": [
      "\u001b[0;31m---------------------------------------------------------------------------\u001b[0m",
      "\u001b[0;31mKeyboardInterrupt\u001b[0m                         Traceback (most recent call last)",
      "Cell \u001b[0;32mIn[8], line 1\u001b[0m\n\u001b[0;32m----> 1\u001b[0m Q,politique_optimale\u001b[38;5;241m=\u001b[39m\u001b[43mQ_value\u001b[49m\u001b[43m(\u001b[49m\u001b[43mS\u001b[49m\u001b[43m,\u001b[49m\u001b[43mA\u001b[49m\u001b[43m)\u001b[49m\n",
      "Cell \u001b[0;32mIn[7], line 13\u001b[0m, in \u001b[0;36mQ_value\u001b[0;34m(S, A, T, R, gamma, epsilon)\u001b[0m\n\u001b[1;32m     11\u001b[0m         Somme\u001b[38;5;241m=\u001b[39mR[s,j]\n\u001b[1;32m     12\u001b[0m         \u001b[38;5;28;01mfor\u001b[39;00m s2 \u001b[38;5;129;01min\u001b[39;00m S:\n\u001b[0;32m---> 13\u001b[0m            Somme\u001b[38;5;241m+\u001b[39m\u001b[38;5;241m=\u001b[39mgamma\u001b[38;5;241m*\u001b[39mT[j,s,s2]\u001b[38;5;241m*\u001b[39m\u001b[43mnp\u001b[49m\u001b[38;5;241;43m.\u001b[39;49m\u001b[43mmin\u001b[49m\u001b[43m(\u001b[49m\u001b[43mQ_n1\u001b[49m\u001b[43m[\u001b[49m\u001b[43ms2\u001b[49m\u001b[43m,\u001b[49m\u001b[43m:\u001b[49m\u001b[43m]\u001b[49m\u001b[43m)\u001b[49m\n\u001b[1;32m     14\u001b[0m         Q[s,j]\u001b[38;5;241m=\u001b[39mSomme\n\u001b[1;32m     15\u001b[0m \u001b[38;5;28;01mif\u001b[39;00m np\u001b[38;5;241m.\u001b[39mmax(np\u001b[38;5;241m.\u001b[39mabs(Q\u001b[38;5;241m-\u001b[39mQ_n1))\u001b[38;5;241m<\u001b[39mepsilon:\n",
      "File \u001b[0;32m~/.conda/envs/inference/lib/python3.12/site-packages/numpy/core/fromnumeric.py:2953\u001b[0m, in \u001b[0;36mmin\u001b[0;34m(a, axis, out, keepdims, initial, where)\u001b[0m\n\u001b[1;32m   2836\u001b[0m \u001b[38;5;129m@array_function_dispatch\u001b[39m(_min_dispatcher)\n\u001b[1;32m   2837\u001b[0m \u001b[38;5;28;01mdef\u001b[39;00m \u001b[38;5;21mmin\u001b[39m(a, axis\u001b[38;5;241m=\u001b[39m\u001b[38;5;28;01mNone\u001b[39;00m, out\u001b[38;5;241m=\u001b[39m\u001b[38;5;28;01mNone\u001b[39;00m, keepdims\u001b[38;5;241m=\u001b[39mnp\u001b[38;5;241m.\u001b[39m_NoValue, initial\u001b[38;5;241m=\u001b[39mnp\u001b[38;5;241m.\u001b[39m_NoValue,\n\u001b[1;32m   2838\u001b[0m         where\u001b[38;5;241m=\u001b[39mnp\u001b[38;5;241m.\u001b[39m_NoValue):\n\u001b[1;32m   2839\u001b[0m \u001b[38;5;250m    \u001b[39m\u001b[38;5;124;03m\"\"\"\u001b[39;00m\n\u001b[1;32m   2840\u001b[0m \u001b[38;5;124;03m    Return the minimum of an array or minimum along an axis.\u001b[39;00m\n\u001b[1;32m   2841\u001b[0m \n\u001b[0;32m   (...)\u001b[0m\n\u001b[1;32m   2951\u001b[0m \u001b[38;5;124;03m    6\u001b[39;00m\n\u001b[1;32m   2952\u001b[0m \u001b[38;5;124;03m    \"\"\"\u001b[39;00m\n\u001b[0;32m-> 2953\u001b[0m     \u001b[38;5;28;01mreturn\u001b[39;00m \u001b[43m_wrapreduction\u001b[49m\u001b[43m(\u001b[49m\u001b[43ma\u001b[49m\u001b[43m,\u001b[49m\u001b[43m \u001b[49m\u001b[43mnp\u001b[49m\u001b[38;5;241;43m.\u001b[39;49m\u001b[43mminimum\u001b[49m\u001b[43m,\u001b[49m\u001b[43m \u001b[49m\u001b[38;5;124;43m'\u001b[39;49m\u001b[38;5;124;43mmin\u001b[39;49m\u001b[38;5;124;43m'\u001b[39;49m\u001b[43m,\u001b[49m\u001b[43m \u001b[49m\u001b[43maxis\u001b[49m\u001b[43m,\u001b[49m\u001b[43m \u001b[49m\u001b[38;5;28;43;01mNone\u001b[39;49;00m\u001b[43m,\u001b[49m\u001b[43m \u001b[49m\u001b[43mout\u001b[49m\u001b[43m,\u001b[49m\n\u001b[1;32m   2954\u001b[0m \u001b[43m                          \u001b[49m\u001b[43mkeepdims\u001b[49m\u001b[38;5;241;43m=\u001b[39;49m\u001b[43mkeepdims\u001b[49m\u001b[43m,\u001b[49m\u001b[43m \u001b[49m\u001b[43minitial\u001b[49m\u001b[38;5;241;43m=\u001b[39;49m\u001b[43minitial\u001b[49m\u001b[43m,\u001b[49m\u001b[43m \u001b[49m\u001b[43mwhere\u001b[49m\u001b[38;5;241;43m=\u001b[39;49m\u001b[43mwhere\u001b[49m\u001b[43m)\u001b[49m\n",
      "File \u001b[0;32m~/.conda/envs/inference/lib/python3.12/site-packages/numpy/core/fromnumeric.py:72\u001b[0m, in \u001b[0;36m_wrapreduction\u001b[0;34m(obj, ufunc, method, axis, dtype, out, **kwargs)\u001b[0m\n\u001b[1;32m     71\u001b[0m \u001b[38;5;28;01mdef\u001b[39;00m \u001b[38;5;21m_wrapreduction\u001b[39m(obj, ufunc, method, axis, dtype, out, \u001b[38;5;241m*\u001b[39m\u001b[38;5;241m*\u001b[39mkwargs):\n\u001b[0;32m---> 72\u001b[0m     passkwargs \u001b[38;5;241m=\u001b[39m {k: v \u001b[38;5;28;01mfor\u001b[39;00m k, v \u001b[38;5;129;01min\u001b[39;00m kwargs\u001b[38;5;241m.\u001b[39mitems()\n\u001b[1;32m     73\u001b[0m                   \u001b[38;5;28;01mif\u001b[39;00m v \u001b[38;5;129;01mis\u001b[39;00m \u001b[38;5;129;01mnot\u001b[39;00m np\u001b[38;5;241m.\u001b[39m_NoValue}\n\u001b[1;32m     75\u001b[0m     \u001b[38;5;28;01mif\u001b[39;00m \u001b[38;5;28mtype\u001b[39m(obj) \u001b[38;5;129;01mis\u001b[39;00m \u001b[38;5;129;01mnot\u001b[39;00m mu\u001b[38;5;241m.\u001b[39mndarray:\n\u001b[1;32m     76\u001b[0m         \u001b[38;5;28;01mtry\u001b[39;00m:\n",
      "\u001b[0;31mKeyboardInterrupt\u001b[0m: "
     ]
    }
   ],
   "source": [
    "Q,politique_optimale=Q_value(S,A)"
   ]
  },
  {
   "cell_type": "code",
   "execution_count": null,
   "id": "b7527660-ee42-46be-a683-072c75478d3b",
   "metadata": {},
   "outputs": [],
   "source": [
    "politique_optimale"
   ]
  },
  {
   "cell_type": "markdown",
   "id": "a80a12e7",
   "metadata": {},
   "source": [
    "# Q learning"
   ]
  },
  {
   "cell_type": "code",
   "execution_count": null,
   "id": "e97e41f3",
   "metadata": {},
   "outputs": [],
   "source": [
    "S"
   ]
  },
  {
   "cell_type": "markdown",
   "id": "cb0f162d",
   "metadata": {},
   "source": [
    "# Sarsa"
   ]
  },
  {
   "cell_type": "code",
   "execution_count": null,
   "id": "7cd39960",
   "metadata": {},
   "outputs": [],
   "source": []
  }
 ],
 "metadata": {
  "kernelspec": {
   "display_name": "Python 3 (ipykernel)",
   "language": "python",
   "name": "python3"
  },
  "language_info": {
   "codemirror_mode": {
    "name": "ipython",
    "version": 3
   },
   "file_extension": ".py",
   "mimetype": "text/x-python",
   "name": "python",
   "nbconvert_exporter": "python",
   "pygments_lexer": "ipython3",
   "version": "3.12.0"
  }
 },
 "nbformat": 4,
 "nbformat_minor": 5
}

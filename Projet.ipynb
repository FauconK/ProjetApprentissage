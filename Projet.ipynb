{
 "cells": [
  {
   "cell_type": "code",
   "execution_count": 1,
   "id": "5f01aea4",
   "metadata": {},
   "outputs": [],
   "source": [
    "import numpy as np\n",
    "import random as rd\n",
    "import matplotlib.pyplot as plt"
   ]
  },
  {
   "cell_type": "markdown",
   "id": "69e1acf1",
   "metadata": {},
   "source": [
    "# Variables"
   ]
  },
  {
   "cell_type": "code",
   "execution_count": 2,
   "id": "c31f990e",
   "metadata": {},
   "outputs": [],
   "source": [
    "#maxVM\n",
    "K=3\n",
    "#CapaTot\n",
    "B=10\n",
    "b=2\n",
    "d=1\n",
    "#Coût\n",
    "Cf=1\n",
    "Ca=1\n",
    "Cd=1\n",
    "Ch=1"
   ]
  },
  {
   "cell_type": "markdown",
   "id": "1a23c836",
   "metadata": {},
   "source": [
    "# Transition et Reward"
   ]
  },
  {
   "cell_type": "markdown",
   "id": "d5c9999d",
   "metadata": {},
   "source": [
    "## Transition avec Proba PA(i)\n",
    "\n",
    "s=[min(B,max(0,m+i-j*d)),j]\n",
    "\n",
    "## Reward\n",
    "\n",
    "if j>n:\n",
    "\n",
    "    r=j*Cf+(j-n)*Ca+m*Ch\n",
    "\n",
    "else:\n",
    "\n",
    "    r=j*Cf+(n-j)*Cd+m*Ch"
   ]
  },
  {
   "cell_type": "code",
   "execution_count": 3,
   "id": "38666adf-9c89-41ce-9dd5-0bb85f99c4d4",
   "metadata": {},
   "outputs": [],
   "source": [
    "def Reward(A,S,B=B,K=K,Ca=Ca,Cd=Cd,Ch=Ch):\n",
    "    R=np.zeros((len(S),len(A)))\n",
    "    for j in range(len(A)):\n",
    "        for s in range(len(S)):\n",
    "            m,n=s%(B+1),s//(B+1)\n",
    "            if j>n:\n",
    "                R[s,j]=j*Cf+(j-n)*Ca+m*Ch\n",
    "            else:\n",
    "                R[s,j]=j*Cf+(n-j)*Cd+m*Ch\n",
    "    return R\n",
    "\n",
    "def Transition(A,S,PA,B=B,K=K,d=d):\n",
    "    T=np.zeros((len(A),len(S),len(S)))\n",
    "    for j in range(len(A)):\n",
    "        for s in range(len(S)):\n",
    "            for i in range(len(PA)):\n",
    "                m=s%(B+1)\n",
    "                pos=min(B,max(0,m+i-j*d))\n",
    "                T[j][s][j*(K+1)+pos]+=PA[i]\n",
    "    return T\n",
    "\n",
    "def revertS(politique_optimale,B=B,K=K):\n",
    "    PO=np.zeros((B+1,K+1))\n",
    "    for s in range((B+1)*(K+1)):\n",
    "        PO[s%(B+1),s//(B+1)]=politique_optimale[s]\n",
    "    return PO"
   ]
  },
  {
   "cell_type": "code",
   "execution_count": 4,
   "id": "051771d8-bf43-4c36-8b9e-7d98cccc5e33",
   "metadata": {},
   "outputs": [],
   "source": [
    "S=np.array([m+n*(B+1) for n in range(K+1) for m in range(B+1)])\n",
    "A=np.array([k for k in range(K+1)])\n",
    "PA=np.ones(b+1)/(b+1)\n",
    "#PA=np.array([0.5,0.3,0.2])\n",
    "\n",
    "T=Transition(A,S,PA)\n",
    "R=Reward(A,S)\n",
    "epsilon=0.01\n",
    "gamma=0.9"
   ]
  },
  {
   "cell_type": "markdown",
   "id": "d945e371",
   "metadata": {},
   "source": [
    "# Q Value"
   ]
  },
  {
   "cell_type": "code",
   "execution_count": 5,
   "id": "05691a4b",
   "metadata": {},
   "outputs": [],
   "source": [
    "def Q_value(S,A,T=T,R=R,gamma=gamma,epsilon=epsilon):\n",
    "    \n",
    "    Q=np.zeros((len(S),len(A)))\n",
    "    k=0\n",
    "    \n",
    "    while True:\n",
    "        Q_n1=np.copy(Q)\n",
    "        k+=1\n",
    "        for s in S:\n",
    "            for j in A:\n",
    "                Somme=R[s,j]\n",
    "                for s2 in S:\n",
    "                   Somme+=gamma*T[j,s,s2]*np.min(Q_n1[s2,:])\n",
    "                Q[s,j]=Somme\n",
    "        if np.max(np.abs(Q-Q_n1))<epsilon:\n",
    "            break\n",
    "        else:\n",
    "            print(k)\n",
    "    politique_optimale = {s: np.argmin(Q[s, :]) for s in S}\n",
    "    \n",
    "    return Q,politique_optimale"
   ]
  },
  {
   "cell_type": "code",
   "execution_count": 6,
   "id": "1fe37a3f-56a1-4aea-bef3-b193e16e2ffa",
   "metadata": {
    "scrolled": true
   },
   "outputs": [
    {
     "name": "stdout",
     "output_type": "stream",
     "text": [
      "1\n",
      "2\n",
      "3\n",
      "4\n",
      "5\n",
      "6\n",
      "7\n",
      "8\n",
      "9\n",
      "10\n",
      "11\n",
      "12\n",
      "13\n",
      "14\n",
      "15\n",
      "16\n",
      "17\n",
      "18\n",
      "19\n",
      "20\n",
      "21\n",
      "22\n",
      "23\n",
      "24\n",
      "25\n",
      "26\n",
      "27\n",
      "28\n",
      "29\n",
      "30\n",
      "31\n",
      "32\n",
      "33\n",
      "34\n",
      "35\n",
      "36\n",
      "37\n",
      "38\n",
      "39\n",
      "40\n",
      "41\n",
      "42\n",
      "43\n",
      "44\n",
      "45\n",
      "46\n",
      "47\n",
      "48\n",
      "49\n",
      "50\n",
      "51\n",
      "52\n",
      "53\n",
      "54\n",
      "55\n",
      "56\n",
      "57\n",
      "58\n"
     ]
    }
   ],
   "source": [
    "Q,politique_optimale=Q_value(S,A)"
   ]
  },
  {
   "cell_type": "code",
   "execution_count": 7,
   "id": "b7527660-ee42-46be-a683-072c75478d3b",
   "metadata": {},
   "outputs": [
    {
     "data": {
      "text/plain": [
       "array([[0., 0., 0., 0.],\n",
       "       [0., 0., 0., 3.],\n",
       "       [0., 0., 3., 3.],\n",
       "       [0., 0., 3., 3.],\n",
       "       [0., 2., 2., 2.],\n",
       "       [2., 2., 2., 2.],\n",
       "       [2., 2., 2., 2.],\n",
       "       [1., 1., 1., 1.],\n",
       "       [1., 1., 1., 1.],\n",
       "       [1., 1., 1., 1.],\n",
       "       [1., 1., 1., 1.]])"
      ]
     },
     "execution_count": 7,
     "metadata": {},
     "output_type": "execute_result"
    }
   ],
   "source": [
    "revertS(politique_optimale)"
   ]
  },
  {
   "cell_type": "code",
   "execution_count": 8,
   "id": "5bf97b3e-b844-42a0-8797-824772ae2f84",
   "metadata": {},
   "outputs": [
    {
     "data": {
      "text/plain": [
       "array([53.83160765, 48.71087952, 52.37460944, 56.30759485])"
      ]
     },
     "execution_count": 8,
     "metadata": {},
     "output_type": "execute_result"
    }
   ],
   "source": [
    "Q[10]"
   ]
  },
  {
   "cell_type": "code",
   "execution_count": 9,
   "id": "772c0b85-f5a1-4ebf-9cdd-a59f7a1ace9a",
   "metadata": {},
   "outputs": [
    {
     "data": {
      "text/plain": [
       "{0: 0,\n",
       " 1: 0,\n",
       " 2: 0,\n",
       " 3: 0,\n",
       " 4: 0,\n",
       " 5: 2,\n",
       " 6: 2,\n",
       " 7: 1,\n",
       " 8: 1,\n",
       " 9: 1,\n",
       " 10: 1,\n",
       " 11: 0,\n",
       " 12: 0,\n",
       " 13: 0,\n",
       " 14: 0,\n",
       " 15: 2,\n",
       " 16: 2,\n",
       " 17: 2,\n",
       " 18: 1,\n",
       " 19: 1,\n",
       " 20: 1,\n",
       " 21: 1,\n",
       " 22: 0,\n",
       " 23: 0,\n",
       " 24: 3,\n",
       " 25: 3,\n",
       " 26: 2,\n",
       " 27: 2,\n",
       " 28: 2,\n",
       " 29: 1,\n",
       " 30: 1,\n",
       " 31: 1,\n",
       " 32: 1,\n",
       " 33: 0,\n",
       " 34: 3,\n",
       " 35: 3,\n",
       " 36: 3,\n",
       " 37: 2,\n",
       " 38: 2,\n",
       " 39: 2,\n",
       " 40: 1,\n",
       " 41: 1,\n",
       " 42: 1,\n",
       " 43: 1}"
      ]
     },
     "execution_count": 9,
     "metadata": {},
     "output_type": "execute_result"
    }
   ],
   "source": [
    "politique_optimale"
   ]
  },
  {
   "cell_type": "markdown",
   "id": "a80a12e7",
   "metadata": {},
   "source": [
    "# Q learning"
   ]
  },
  {
   "cell_type": "code",
   "execution_count": 10,
   "id": "e97e41f3",
   "metadata": {},
   "outputs": [
    {
     "data": {
      "text/plain": [
       "array([ 0,  1,  2,  3,  4,  5,  6,  7,  8,  9, 10, 11, 12, 13, 14, 15, 16,\n",
       "       17, 18, 19, 20, 21, 22, 23, 24, 25, 26, 27, 28, 29, 30, 31, 32, 33,\n",
       "       34, 35, 36, 37, 38, 39, 40, 41, 42, 43])"
      ]
     },
     "execution_count": 10,
     "metadata": {},
     "output_type": "execute_result"
    }
   ],
   "source": [
    "S"
   ]
  },
  {
   "cell_type": "markdown",
   "id": "cb0f162d",
   "metadata": {},
   "source": [
    "# Sarsa"
   ]
  },
  {
   "cell_type": "code",
   "execution_count": null,
   "id": "7cd39960",
   "metadata": {},
   "outputs": [],
   "source": []
  }
 ],
 "metadata": {
  "kernelspec": {
   "display_name": "Python 3 (ipykernel)",
   "language": "python",
   "name": "python3"
  },
  "language_info": {
   "codemirror_mode": {
    "name": "ipython",
    "version": 3
   },
   "file_extension": ".py",
   "mimetype": "text/x-python",
   "name": "python",
   "nbconvert_exporter": "python",
   "pygments_lexer": "ipython3",
   "version": "3.12.0"
  }
 },
 "nbformat": 4,
 "nbformat_minor": 5
}

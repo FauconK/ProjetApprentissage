{
 "cells": [
  {
   "cell_type": "code",
   "execution_count": 5,
   "id": "5f01aea4",
   "metadata": {},
   "outputs": [],
   "source": [
    "import numpy as np\n",
    "import random as rd\n",
    "import matplotlib.pyplot as plt"
   ]
  },
  {
   "cell_type": "markdown",
   "id": "69e1acf1",
   "metadata": {},
   "source": [
    "# Variables"
   ]
  },
  {
   "cell_type": "code",
   "execution_count": 6,
   "id": "c31f990e",
   "metadata": {},
   "outputs": [],
   "source": [
    "#maxVM\n",
    "K=10\n",
    "#CapaTot\n",
    "B=10\n",
    "#Coût\n",
    "Cf=1\n",
    "Ca=1\n",
    "Cd=1\n",
    "Ch=1"
   ]
  },
  {
   "cell_type": "markdown",
   "id": "1a23c836",
   "metadata": {},
   "source": [
    "# Transition et Reward"
   ]
  },
  {
   "cell_type": "markdown",
   "id": "d5c9999d",
   "metadata": {},
   "source": [
    "## Transition avec Proba PA(i)\n",
    "\n",
    "s=np.array([min(B,max(0,m+i-j*d)),j])\n",
    "\n",
    "## Reward\n",
    "\n",
    "if j>n:\n",
    "\n",
    "    r=j*Cf+(j-n)*Ca+m*Ch\n",
    "\n",
    "else:\n",
    "\n",
    "    r=j*Cf(n-j)*Cd+m*Ch"
   ]
  },
  {
   "cell_type": "markdown",
   "id": "d945e371",
   "metadata": {},
   "source": [
    "# Q Value"
   ]
  },
  {
   "cell_type": "code",
   "execution_count": null,
   "id": "05691a4b",
   "metadata": {},
   "outputs": [],
   "source": []
  },
  {
   "cell_type": "markdown",
   "id": "a80a12e7",
   "metadata": {},
   "source": [
    "# Q learning"
   ]
  },
  {
   "cell_type": "code",
   "execution_count": null,
   "id": "e97e41f3",
   "metadata": {},
   "outputs": [],
   "source": []
  },
  {
   "cell_type": "markdown",
   "id": "cb0f162d",
   "metadata": {},
   "source": [
    "# Sarsa"
   ]
  },
  {
   "cell_type": "code",
   "execution_count": null,
   "id": "7cd39960",
   "metadata": {},
   "outputs": [],
   "source": []
  }
 ],
 "metadata": {
  "kernelspec": {
   "display_name": "Python 3 (ipykernel)",
   "language": "python",
   "name": "python3"
  },
  "language_info": {
   "codemirror_mode": {
    "name": "ipython",
    "version": 3
   },
   "file_extension": ".py",
   "mimetype": "text/x-python",
   "name": "python",
   "nbconvert_exporter": "python",
   "pygments_lexer": "ipython3",
   "version": "3.10.12"
  }
 },
 "nbformat": 4,
 "nbformat_minor": 5
}
